{
 "cells": [
  {
   "cell_type": "markdown",
   "id": "d8ea87aa",
   "metadata": {},
   "source": [
    "Importation of important Libraries"
   ]
  },
  {
   "cell_type": "code",
   "execution_count": 1,
   "id": "a9a7fa38",
   "metadata": {},
   "outputs": [],
   "source": [
    "import pandas as pd\n",
    "import numpy as np\n",
    "import matplotlib.pyplot as plt\n",
    "import warnings \n",
    "import seaborn as sns\n",
    "warnings.filterwarnings('ignore')\n",
    "%matplotlib inline"
   ]
  },
  {
   "cell_type": "markdown",
   "id": "2bb596f7",
   "metadata": {},
   "source": [
    "Reading the Url Of Dataset"
   ]
  },
  {
   "cell_type": "code",
   "execution_count": 3,
   "id": "542fff00",
   "metadata": {},
   "outputs": [],
   "source": [
    "url = \"https://www.worldometers.info/co2-emissions/\"\n",
    "df = pd.read_html(url)"
   ]
  },
  {
   "cell_type": "markdown",
   "id": "7e2530f4",
   "metadata": {},
   "source": [
    "Head of dataset"
   ]
  },
  {
   "cell_type": "code",
   "execution_count": 9,
   "id": "a9042608",
   "metadata": {},
   "outputs": [
    {
     "data": {
      "text/html": [
       "<div>\n",
       "<style scoped>\n",
       "    .dataframe tbody tr th:only-of-type {\n",
       "        vertical-align: middle;\n",
       "    }\n",
       "\n",
       "    .dataframe tbody tr th {\n",
       "        vertical-align: top;\n",
       "    }\n",
       "\n",
       "    .dataframe thead th {\n",
       "        text-align: right;\n",
       "    }\n",
       "</style>\n",
       "<table border=\"1\" class=\"dataframe\">\n",
       "  <thead>\n",
       "    <tr style=\"text-align: right;\">\n",
       "      <th></th>\n",
       "      <th>#</th>\n",
       "      <th>Country</th>\n",
       "      <th>CO2 emissions (tons, 2022)</th>\n",
       "      <th>1 Year Change</th>\n",
       "      <th>Population (2022)</th>\n",
       "      <th>Per Capita</th>\n",
       "      <th>Share of World</th>\n",
       "    </tr>\n",
       "  </thead>\n",
       "  <tbody>\n",
       "    <tr>\n",
       "      <th>0</th>\n",
       "      <td>1</td>\n",
       "      <td>China</td>\n",
       "      <td>12667428430</td>\n",
       "      <td>−0.39%</td>\n",
       "      <td>1425179569</td>\n",
       "      <td>8.89</td>\n",
       "      <td>32.88%</td>\n",
       "    </tr>\n",
       "    <tr>\n",
       "      <th>1</th>\n",
       "      <td>2</td>\n",
       "      <td>United States</td>\n",
       "      <td>4853780240</td>\n",
       "      <td>1.78%</td>\n",
       "      <td>341534046</td>\n",
       "      <td>14.21</td>\n",
       "      <td>12.60%</td>\n",
       "    </tr>\n",
       "    <tr>\n",
       "      <th>2</th>\n",
       "      <td>3</td>\n",
       "      <td>India</td>\n",
       "      <td>2693034100</td>\n",
       "      <td>6.52%</td>\n",
       "      <td>1425423212</td>\n",
       "      <td>1.89</td>\n",
       "      <td>6.99%</td>\n",
       "    </tr>\n",
       "    <tr>\n",
       "      <th>3</th>\n",
       "      <td>4</td>\n",
       "      <td>Russia</td>\n",
       "      <td>1909039310</td>\n",
       "      <td>−1.22%</td>\n",
       "      <td>145579899</td>\n",
       "      <td>13.11</td>\n",
       "      <td>4.96%</td>\n",
       "    </tr>\n",
       "    <tr>\n",
       "      <th>4</th>\n",
       "      <td>5</td>\n",
       "      <td>Japan</td>\n",
       "      <td>1082645430</td>\n",
       "      <td>0.65%</td>\n",
       "      <td>124997578</td>\n",
       "      <td>8.66</td>\n",
       "      <td>2.81%</td>\n",
       "    </tr>\n",
       "  </tbody>\n",
       "</table>\n",
       "</div>"
      ],
      "text/plain": [
       "   #        Country  CO2 emissions (tons, 2022) 1 Year Change  \\\n",
       "0  1          China                 12667428430        −0.39%   \n",
       "1  2  United States                  4853780240         1.78%   \n",
       "2  3          India                  2693034100         6.52%   \n",
       "3  4         Russia                  1909039310        −1.22%   \n",
       "4  5          Japan                  1082645430         0.65%   \n",
       "\n",
       "   Population (2022)  Per Capita Share of World  \n",
       "0         1425179569        8.89         32.88%  \n",
       "1          341534046       14.21         12.60%  \n",
       "2         1425423212        1.89          6.99%  \n",
       "3          145579899       13.11          4.96%  \n",
       "4          124997578        8.66          2.81%  "
      ]
     },
     "execution_count": 9,
     "metadata": {},
     "output_type": "execute_result"
    }
   ],
   "source": [
    "df = pd.read_html(url)[0]\n",
    "df.head()\n"
   ]
  },
  {
   "cell_type": "markdown",
   "id": "b332a0dd",
   "metadata": {},
   "source": [
    "Data Shape"
   ]
  },
  {
   "cell_type": "code",
   "execution_count": 10,
   "id": "15eb5270",
   "metadata": {},
   "outputs": [
    {
     "data": {
      "text/plain": [
       "(206, 7)"
      ]
     },
     "execution_count": 10,
     "metadata": {},
     "output_type": "execute_result"
    }
   ],
   "source": [
    "df.shape"
   ]
  },
  {
   "cell_type": "markdown",
   "id": "4ac7b68d",
   "metadata": {},
   "source": [
    "Number Of columns"
   ]
  },
  {
   "cell_type": "code",
   "execution_count": 11,
   "id": "60238d83",
   "metadata": {},
   "outputs": [
    {
     "data": {
      "text/plain": [
       "Index(['#', 'Country', 'CO2 emissions (tons, 2022)', '1 Year Change',\n",
       "       'Population (2022)', 'Per Capita', 'Share of World'],\n",
       "      dtype='object')"
      ]
     },
     "execution_count": 11,
     "metadata": {},
     "output_type": "execute_result"
    }
   ],
   "source": [
    "df.columns"
   ]
  },
  {
   "cell_type": "markdown",
   "id": "93928a3d",
   "metadata": {},
   "source": [
    "Descfriptive Statistics"
   ]
  },
  {
   "cell_type": "code",
   "execution_count": 12,
   "id": "9bc062f5",
   "metadata": {},
   "outputs": [
    {
     "data": {
      "text/html": [
       "<div>\n",
       "<style scoped>\n",
       "    .dataframe tbody tr th:only-of-type {\n",
       "        vertical-align: middle;\n",
       "    }\n",
       "\n",
       "    .dataframe tbody tr th {\n",
       "        vertical-align: top;\n",
       "    }\n",
       "\n",
       "    .dataframe thead th {\n",
       "        text-align: right;\n",
       "    }\n",
       "</style>\n",
       "<table border=\"1\" class=\"dataframe\">\n",
       "  <thead>\n",
       "    <tr style=\"text-align: right;\">\n",
       "      <th></th>\n",
       "      <th>#</th>\n",
       "      <th>CO2 emissions (tons, 2022)</th>\n",
       "      <th>Population (2022)</th>\n",
       "      <th>Per Capita</th>\n",
       "    </tr>\n",
       "  </thead>\n",
       "  <tbody>\n",
       "    <tr>\n",
       "      <th>count</th>\n",
       "      <td>206.000000</td>\n",
       "      <td>2.060000e+02</td>\n",
       "      <td>2.060000e+02</td>\n",
       "      <td>206.000000</td>\n",
       "    </tr>\n",
       "    <tr>\n",
       "      <th>mean</th>\n",
       "      <td>103.500000</td>\n",
       "      <td>1.812282e+08</td>\n",
       "      <td>3.880763e+07</td>\n",
       "      <td>4.666748</td>\n",
       "    </tr>\n",
       "    <tr>\n",
       "      <th>std</th>\n",
       "      <td>59.611241</td>\n",
       "      <td>9.734559e+08</td>\n",
       "      <td>1.457027e+08</td>\n",
       "      <td>7.258890</td>\n",
       "    </tr>\n",
       "    <tr>\n",
       "      <th>min</th>\n",
       "      <td>1.000000</td>\n",
       "      <td>2.110000e+03</td>\n",
       "      <td>3.490000e+03</td>\n",
       "      <td>0.030000</td>\n",
       "    </tr>\n",
       "    <tr>\n",
       "      <th>25%</th>\n",
       "      <td>52.250000</td>\n",
       "      <td>1.713200e+06</td>\n",
       "      <td>1.289940e+06</td>\n",
       "      <td>0.810000</td>\n",
       "    </tr>\n",
       "    <tr>\n",
       "      <th>50%</th>\n",
       "      <td>103.500000</td>\n",
       "      <td>1.111598e+07</td>\n",
       "      <td>7.348054e+06</td>\n",
       "      <td>2.590000</td>\n",
       "    </tr>\n",
       "    <tr>\n",
       "      <th>75%</th>\n",
       "      <td>154.750000</td>\n",
       "      <td>6.150142e+07</td>\n",
       "      <td>2.806796e+07</td>\n",
       "      <td>5.582500</td>\n",
       "    </tr>\n",
       "    <tr>\n",
       "      <th>max</th>\n",
       "      <td>206.000000</td>\n",
       "      <td>1.266743e+10</td>\n",
       "      <td>1.425423e+09</td>\n",
       "      <td>76.410000</td>\n",
       "    </tr>\n",
       "  </tbody>\n",
       "</table>\n",
       "</div>"
      ],
      "text/plain": [
       "                #  CO2 emissions (tons, 2022)  Population (2022)  Per Capita\n",
       "count  206.000000                2.060000e+02       2.060000e+02  206.000000\n",
       "mean   103.500000                1.812282e+08       3.880763e+07    4.666748\n",
       "std     59.611241                9.734559e+08       1.457027e+08    7.258890\n",
       "min      1.000000                2.110000e+03       3.490000e+03    0.030000\n",
       "25%     52.250000                1.713200e+06       1.289940e+06    0.810000\n",
       "50%    103.500000                1.111598e+07       7.348054e+06    2.590000\n",
       "75%    154.750000                6.150142e+07       2.806796e+07    5.582500\n",
       "max    206.000000                1.266743e+10       1.425423e+09   76.410000"
      ]
     },
     "execution_count": 12,
     "metadata": {},
     "output_type": "execute_result"
    }
   ],
   "source": [
    "df.describe()"
   ]
  },
  {
   "cell_type": "markdown",
   "id": "23810921",
   "metadata": {},
   "source": [
    "Defining a new dataFrame of Columns of interest"
   ]
  },
  {
   "cell_type": "code",
   "execution_count": null,
   "id": "68001ec2",
   "metadata": {},
   "outputs": [],
   "source": [
    "df2 = df[['Country', '2025', '2024', '2023', '2022', '2021', '2020', '2019', '2018', '2017', '2016', '2015']]"
   ]
  }
 ],
 "metadata": {
  "kernelspec": {
   "display_name": "Python 3",
   "language": "python",
   "name": "python3"
  },
  "language_info": {
   "codemirror_mode": {
    "name": "ipython",
    "version": 3
   },
   "file_extension": ".py",
   "mimetype": "text/x-python",
   "name": "python",
   "nbconvert_exporter": "python",
   "pygments_lexer": "ipython3",
   "version": "3.11.9"
  }
 },
 "nbformat": 4,
 "nbformat_minor": 5
}

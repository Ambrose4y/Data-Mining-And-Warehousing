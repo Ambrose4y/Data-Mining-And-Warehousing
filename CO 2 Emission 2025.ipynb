{
 "cells": [
  {
   "cell_type": "markdown",
   "id": "d8ea87aa",
   "metadata": {},
   "source": [
    "Importation of important Libraries"
   ]
  },
  {
   "cell_type": "code",
   "execution_count": 1,
   "id": "a9a7fa38",
   "metadata": {},
   "outputs": [],
   "source": [
    "import pandas as pd\n",
    "import numpy as np\n",
    "import matplotlib.pyplot as plt\n",
    "import warnings \n",
    "import seaborn as sns\n",
    "warnings.filterwarnings('ignore')\n",
    "%matplotlib inline"
   ]
  },
  {
   "cell_type": "markdown",
   "id": "2bb596f7",
   "metadata": {},
   "source": [
    "Reading the Url Of Dataset"
   ]
  },
  {
   "cell_type": "code",
   "execution_count": 3,
   "id": "542fff00",
   "metadata": {},
   "outputs": [],
   "source": [
    "url = \"https://www.worldometers.info/co2-emissions/\"\n",
    "df = pd.read_html(url)"
   ]
  },
  {
   "cell_type": "markdown",
   "id": "7e2530f4",
   "metadata": {},
   "source": [
    "Head of dataset"
   ]
  },
  {
   "cell_type": "code",
   "execution_count": 9,
   "id": "a9042608",
   "metadata": {},
   "outputs": [
    {
     "data": {
      "text/html": [
       "<div>\n",
       "<style scoped>\n",
       "    .dataframe tbody tr th:only-of-type {\n",
       "        vertical-align: middle;\n",
       "    }\n",
       "\n",
       "    .dataframe tbody tr th {\n",
       "        vertical-align: top;\n",
       "    }\n",
       "\n",
       "    .dataframe thead th {\n",
       "        text-align: right;\n",
       "    }\n",
       "</style>\n",
       "<table border=\"1\" class=\"dataframe\">\n",
       "  <thead>\n",
       "    <tr style=\"text-align: right;\">\n",
       "      <th></th>\n",
       "      <th>#</th>\n",
       "      <th>Country</th>\n",
       "      <th>CO2 emissions (tons, 2022)</th>\n",
       "      <th>1 Year Change</th>\n",
       "      <th>Population (2022)</th>\n",
       "      <th>Per Capita</th>\n",
       "      <th>Share of World</th>\n",
       "    </tr>\n",
       "  </thead>\n",
       "  <tbody>\n",
       "    <tr>\n",
       "      <th>0</th>\n",
       "      <td>1</td>\n",
       "      <td>China</td>\n",
       "      <td>12667428430</td>\n",
       "      <td>−0.39%</td>\n",
       "      <td>1425179569</td>\n",
       "      <td>8.89</td>\n",
       "      <td>32.88%</td>\n",
       "    </tr>\n",
       "    <tr>\n",
       "      <th>1</th>\n",
       "      <td>2</td>\n",
       "      <td>United States</td>\n",
       "      <td>4853780240</td>\n",
       "      <td>1.78%</td>\n",
       "      <td>341534046</td>\n",
       "      <td>14.21</td>\n",
       "      <td>12.60%</td>\n",
       "    </tr>\n",
       "    <tr>\n",
       "      <th>2</th>\n",
       "      <td>3</td>\n",
       "      <td>India</td>\n",
       "      <td>2693034100</td>\n",
       "      <td>6.52%</td>\n",
       "      <td>1425423212</td>\n",
       "      <td>1.89</td>\n",
       "      <td>6.99%</td>\n",
       "    </tr>\n",
       "    <tr>\n",
       "      <th>3</th>\n",
       "      <td>4</td>\n",
       "      <td>Russia</td>\n",
       "      <td>1909039310</td>\n",
       "      <td>−1.22%</td>\n",
       "      <td>145579899</td>\n",
       "      <td>13.11</td>\n",
       "      <td>4.96%</td>\n",
       "    </tr>\n",
       "    <tr>\n",
       "      <th>4</th>\n",
       "      <td>5</td>\n",
       "      <td>Japan</td>\n",
       "      <td>1082645430</td>\n",
       "      <td>0.65%</td>\n",
       "      <td>124997578</td>\n",
       "      <td>8.66</td>\n",
       "      <td>2.81%</td>\n",
       "    </tr>\n",
       "  </tbody>\n",
       "</table>\n",
       "</div>"
      ],
      "text/plain": [
       "   #        Country  CO2 emissions (tons, 2022) 1 Year Change  \\\n",
       "0  1          China                 12667428430        −0.39%   \n",
       "1  2  United States                  4853780240         1.78%   \n",
       "2  3          India                  2693034100         6.52%   \n",
       "3  4         Russia                  1909039310        −1.22%   \n",
       "4  5          Japan                  1082645430         0.65%   \n",
       "\n",
       "   Population (2022)  Per Capita Share of World  \n",
       "0         1425179569        8.89         32.88%  \n",
       "1          341534046       14.21         12.60%  \n",
       "2         1425423212        1.89          6.99%  \n",
       "3          145579899       13.11          4.96%  \n",
       "4          124997578        8.66          2.81%  "
      ]
     },
     "execution_count": 9,
     "metadata": {},
     "output_type": "execute_result"
    }
   ],
   "source": [
    "df = pd.read_html(url)[0]\n",
    "df.head()\n"
   ]
  },
  {
   "cell_type": "markdown",
   "id": "b332a0dd",
   "metadata": {},
   "source": [
    "Data Shape"
   ]
  },
  {
   "cell_type": "code",
   "execution_count": 10,
   "id": "15eb5270",
   "metadata": {},
   "outputs": [
    {
     "data": {
      "text/plain": [
       "(206, 7)"
      ]
     },
     "execution_count": 10,
     "metadata": {},
     "output_type": "execute_result"
    }
   ],
   "source": [
    "df.shape"
   ]
  },
  {
   "cell_type": "markdown",
   "id": "4ac7b68d",
   "metadata": {},
   "source": [
    "Number Of columns"
   ]
  },
  {
   "cell_type": "code",
   "execution_count": 11,
   "id": "60238d83",
   "metadata": {},
   "outputs": [
    {
     "data": {
      "text/plain": [
       "Index(['#', 'Country', 'CO2 emissions (tons, 2022)', '1 Year Change',\n",
       "       'Population (2022)', 'Per Capita', 'Share of World'],\n",
       "      dtype='object')"
      ]
     },
     "execution_count": 11,
     "metadata": {},
     "output_type": "execute_result"
    }
   ],
   "source": [
    "df.columns"
   ]
  },
  {
   "cell_type": "markdown",
   "id": "93928a3d",
   "metadata": {},
   "source": [
    "Descfriptive Statistics"
   ]
  },
  {
   "cell_type": "code",
   "execution_count": 12,
   "id": "9bc062f5",
   "metadata": {},
   "outputs": [
    {
     "data": {
      "text/html": [
       "<div>\n",
       "<style scoped>\n",
       "    .dataframe tbody tr th:only-of-type {\n",
       "        vertical-align: middle;\n",
       "    }\n",
       "\n",
       "    .dataframe tbody tr th {\n",
       "        vertical-align: top;\n",
       "    }\n",
       "\n",
       "    .dataframe thead th {\n",
       "        text-align: right;\n",
       "    }\n",
       "</style>\n",
       "<table border=\"1\" class=\"dataframe\">\n",
       "  <thead>\n",
       "    <tr style=\"text-align: right;\">\n",
       "      <th></th>\n",
       "      <th>#</th>\n",
       "      <th>CO2 emissions (tons, 2022)</th>\n",
       "      <th>Population (2022)</th>\n",
       "      <th>Per Capita</th>\n",
       "    </tr>\n",
       "  </thead>\n",
       "  <tbody>\n",
       "    <tr>\n",
       "      <th>count</th>\n",
       "      <td>206.000000</td>\n",
       "      <td>2.060000e+02</td>\n",
       "      <td>2.060000e+02</td>\n",
       "      <td>206.000000</td>\n",
       "    </tr>\n",
       "    <tr>\n",
       "      <th>mean</th>\n",
       "      <td>103.500000</td>\n",
       "      <td>1.812282e+08</td>\n",
       "      <td>3.880763e+07</td>\n",
       "      <td>4.666748</td>\n",
       "    </tr>\n",
       "    <tr>\n",
       "      <th>std</th>\n",
       "      <td>59.611241</td>\n",
       "      <td>9.734559e+08</td>\n",
       "      <td>1.457027e+08</td>\n",
       "      <td>7.258890</td>\n",
       "    </tr>\n",
       "    <tr>\n",
       "      <th>min</th>\n",
       "      <td>1.000000</td>\n",
       "      <td>2.110000e+03</td>\n",
       "      <td>3.490000e+03</td>\n",
       "      <td>0.030000</td>\n",
       "    </tr>\n",
       "    <tr>\n",
       "      <th>25%</th>\n",
       "      <td>52.250000</td>\n",
       "      <td>1.713200e+06</td>\n",
       "      <td>1.289940e+06</td>\n",
       "      <td>0.810000</td>\n",
       "    </tr>\n",
       "    <tr>\n",
       "      <th>50%</th>\n",
       "      <td>103.500000</td>\n",
       "      <td>1.111598e+07</td>\n",
       "      <td>7.348054e+06</td>\n",
       "      <td>2.590000</td>\n",
       "    </tr>\n",
       "    <tr>\n",
       "      <th>75%</th>\n",
       "      <td>154.750000</td>\n",
       "      <td>6.150142e+07</td>\n",
       "      <td>2.806796e+07</td>\n",
       "      <td>5.582500</td>\n",
       "    </tr>\n",
       "    <tr>\n",
       "      <th>max</th>\n",
       "      <td>206.000000</td>\n",
       "      <td>1.266743e+10</td>\n",
       "      <td>1.425423e+09</td>\n",
       "      <td>76.410000</td>\n",
       "    </tr>\n",
       "  </tbody>\n",
       "</table>\n",
       "</div>"
      ],
      "text/plain": [
       "                #  CO2 emissions (tons, 2022)  Population (2022)  Per Capita\n",
       "count  206.000000                2.060000e+02       2.060000e+02  206.000000\n",
       "mean   103.500000                1.812282e+08       3.880763e+07    4.666748\n",
       "std     59.611241                9.734559e+08       1.457027e+08    7.258890\n",
       "min      1.000000                2.110000e+03       3.490000e+03    0.030000\n",
       "25%     52.250000                1.713200e+06       1.289940e+06    0.810000\n",
       "50%    103.500000                1.111598e+07       7.348054e+06    2.590000\n",
       "75%    154.750000                6.150142e+07       2.806796e+07    5.582500\n",
       "max    206.000000                1.266743e+10       1.425423e+09   76.410000"
      ]
     },
     "execution_count": 12,
     "metadata": {},
     "output_type": "execute_result"
    }
   ],
   "source": [
    "df.describe()"
   ]
  },
  {
   "cell_type": "markdown",
   "id": "23810921",
   "metadata": {},
   "source": [
    "Defining a new dataFrame of Columns of interest"
   ]
  },
  {
   "cell_type": "code",
   "execution_count": 23,
   "id": "68001ec2",
   "metadata": {},
   "outputs": [],
   "source": [
    "df2 = df[['Country', 'CO2 emissions (tons, 2022)', '1 Year Change',\n",
    "          'Population (2022)', 'Per Capita', 'Share of World']].astype('object')\n"
   ]
  },
  {
   "cell_type": "markdown",
   "id": "589f419c",
   "metadata": {},
   "source": [
    "New dataframe head"
   ]
  },
  {
   "cell_type": "code",
   "execution_count": 24,
   "id": "8e3b2e8f",
   "metadata": {},
   "outputs": [
    {
     "data": {
      "text/html": [
       "<div>\n",
       "<style scoped>\n",
       "    .dataframe tbody tr th:only-of-type {\n",
       "        vertical-align: middle;\n",
       "    }\n",
       "\n",
       "    .dataframe tbody tr th {\n",
       "        vertical-align: top;\n",
       "    }\n",
       "\n",
       "    .dataframe thead th {\n",
       "        text-align: right;\n",
       "    }\n",
       "</style>\n",
       "<table border=\"1\" class=\"dataframe\">\n",
       "  <thead>\n",
       "    <tr style=\"text-align: right;\">\n",
       "      <th></th>\n",
       "      <th>Country</th>\n",
       "      <th>CO2 emissions (tons, 2022)</th>\n",
       "      <th>1 Year Change</th>\n",
       "      <th>Population (2022)</th>\n",
       "      <th>Per Capita</th>\n",
       "      <th>Share of World</th>\n",
       "    </tr>\n",
       "  </thead>\n",
       "  <tbody>\n",
       "    <tr>\n",
       "      <th>0</th>\n",
       "      <td>China</td>\n",
       "      <td>12667428430</td>\n",
       "      <td>−0.39%</td>\n",
       "      <td>1425179569</td>\n",
       "      <td>8.89</td>\n",
       "      <td>32.88%</td>\n",
       "    </tr>\n",
       "    <tr>\n",
       "      <th>1</th>\n",
       "      <td>United States</td>\n",
       "      <td>4853780240</td>\n",
       "      <td>1.78%</td>\n",
       "      <td>341534046</td>\n",
       "      <td>14.21</td>\n",
       "      <td>12.60%</td>\n",
       "    </tr>\n",
       "    <tr>\n",
       "      <th>2</th>\n",
       "      <td>India</td>\n",
       "      <td>2693034100</td>\n",
       "      <td>6.52%</td>\n",
       "      <td>1425423212</td>\n",
       "      <td>1.89</td>\n",
       "      <td>6.99%</td>\n",
       "    </tr>\n",
       "    <tr>\n",
       "      <th>3</th>\n",
       "      <td>Russia</td>\n",
       "      <td>1909039310</td>\n",
       "      <td>−1.22%</td>\n",
       "      <td>145579899</td>\n",
       "      <td>13.11</td>\n",
       "      <td>4.96%</td>\n",
       "    </tr>\n",
       "    <tr>\n",
       "      <th>4</th>\n",
       "      <td>Japan</td>\n",
       "      <td>1082645430</td>\n",
       "      <td>0.65%</td>\n",
       "      <td>124997578</td>\n",
       "      <td>8.66</td>\n",
       "      <td>2.81%</td>\n",
       "    </tr>\n",
       "  </tbody>\n",
       "</table>\n",
       "</div>"
      ],
      "text/plain": [
       "         Country CO2 emissions (tons, 2022) 1 Year Change Population (2022)  \\\n",
       "0          China                12667428430        −0.39%        1425179569   \n",
       "1  United States                 4853780240         1.78%         341534046   \n",
       "2          India                 2693034100         6.52%        1425423212   \n",
       "3         Russia                 1909039310        −1.22%         145579899   \n",
       "4          Japan                 1082645430         0.65%         124997578   \n",
       "\n",
       "  Per Capita Share of World  \n",
       "0       8.89         32.88%  \n",
       "1      14.21         12.60%  \n",
       "2       1.89          6.99%  \n",
       "3      13.11          4.96%  \n",
       "4       8.66          2.81%  "
      ]
     },
     "execution_count": 24,
     "metadata": {},
     "output_type": "execute_result"
    }
   ],
   "source": [
    "df2.head()"
   ]
  },
  {
   "cell_type": "markdown",
   "id": "3b6a4565",
   "metadata": {},
   "source": [
    "correlation analysis"
   ]
  },
  {
   "cell_type": "code",
   "execution_count": 33,
   "id": "9ffc9ec1",
   "metadata": {},
   "outputs": [],
   "source": [
    "df2 = df2.apply(pd.to_numeric, errors='ignore')"
   ]
  },
  {
   "cell_type": "code",
   "execution_count": 35,
   "id": "4b52558a",
   "metadata": {},
   "outputs": [
    {
     "data": {
      "text/plain": [
       "Text(0.5, 0, 'Population (2022)')"
      ]
     },
     "execution_count": 35,
     "metadata": {},
     "output_type": "execute_result"
    },
    {
     "data": {
      "image/png": "[encoded data removed]",
      "text/plain": [
       "<Figure size 640x480 with 1 Axes>"
      ]
     },
     "metadata": {},
     "output_type": "display_data"
    }
   ],
   "source": [
    "plt.scatter(df2['Population (2022)'], df2['CO2 emissions (tons, 2022)'])\n",
    "plt.xlabel('Population (2022)')\n"
   ]
  },
  {
   "cell_type": "code",
   "execution_count": null,
   "id": "d820ca28",
   "metadata": {},
   "outputs": [
    {
     "ename": "KeyError",
     "evalue": "'world share'",
     "output_type": "error",
     "traceback": [
      "\u001b[31m---------------------------------------------------------------------------\u001b[39m",
      "\u001b[31mKeyError\u001b[39m                                  Traceback (most recent call last)",
      "\u001b[36mFile \u001b[39m\u001b[32m~\\AppData\\Local\\Packages\\PythonSoftwareFoundation.Python.3.11_qbz5n2kfra8p0\\LocalCache\\local-packages\\Python311\\site-packages\\pandas\\core\\indexes\\base.py:3812\u001b[39m, in \u001b[36mIndex.get_loc\u001b[39m\u001b[34m(self, key)\u001b[39m\n\u001b[32m   3811\u001b[39m \u001b[38;5;28;01mtry\u001b[39;00m:\n\u001b[32m-> \u001b[39m\u001b[32m3812\u001b[39m     \u001b[38;5;28;01mreturn\u001b[39;00m \u001b[38;5;28;43mself\u001b[39;49m\u001b[43m.\u001b[49m\u001b[43m_engine\u001b[49m\u001b[43m.\u001b[49m\u001b[43mget_loc\u001b[49m\u001b[43m(\u001b[49m\u001b[43mcasted_key\u001b[49m\u001b[43m)\u001b[49m\n\u001b[32m   3813\u001b[39m \u001b[38;5;28;01mexcept\u001b[39;00m \u001b[38;5;167;01mKeyError\u001b[39;00m \u001b[38;5;28;01mas\u001b[39;00m err:\n",
      "\u001b[36mFile \u001b[39m\u001b[32mpandas/_libs/index.pyx:167\u001b[39m, in \u001b[36mpandas._libs.index.IndexEngine.get_loc\u001b[39m\u001b[34m()\u001b[39m\n",
      "\u001b[36mFile \u001b[39m\u001b[32mpandas/_libs/index.pyx:196\u001b[39m, in \u001b[36mpandas._libs.index.IndexEngine.get_loc\u001b[39m\u001b[34m()\u001b[39m\n",
      "\u001b[36mFile \u001b[39m\u001b[32mpandas/_libs/hashtable_class_helper.pxi:7088\u001b[39m, in \u001b[36mpandas._libs.hashtable.PyObjectHashTable.get_item\u001b[39m\u001b[34m()\u001b[39m\n",
      "\u001b[36mFile \u001b[39m\u001b[32mpandas/_libs/hashtable_class_helper.pxi:7096\u001b[39m, in \u001b[36mpandas._libs.hashtable.PyObjectHashTable.get_item\u001b[39m\u001b[34m()\u001b[39m\n",
      "\u001b[31mKeyError\u001b[39m: 'world share'",
      "\nThe above exception was the direct cause of the following exception:\n",
      "\u001b[31mKeyError\u001b[39m                                  Traceback (most recent call last)",
      "\u001b[36mCell\u001b[39m\u001b[36m \u001b[39m\u001b[32mIn[36]\u001b[39m\u001b[32m, line 1\u001b[39m\n\u001b[32m----> \u001b[39m\u001b[32m1\u001b[39m plt.scatter(df2[\u001b[33m'\u001b[39m\u001b[33mPopulation (2022)\u001b[39m\u001b[33m'\u001b[39m], \u001b[43mdf2\u001b[49m\u001b[43m[\u001b[49m\u001b[33;43m'\u001b[39;49m\u001b[33;43mworld share\u001b[39;49m\u001b[33;43m'\u001b[39;49m\u001b[43m]\u001b[49m)\n",
      "\u001b[36mFile \u001b[39m\u001b[32m~\\AppData\\Local\\Packages\\PythonSoftwareFoundation.Python.3.11_qbz5n2kfra8p0\\LocalCache\\local-packages\\Python311\\site-packages\\pandas\\core\\frame.py:4113\u001b[39m, in \u001b[36mDataFrame.__getitem__\u001b[39m\u001b[34m(self, key)\u001b[39m\n\u001b[32m   4111\u001b[39m \u001b[38;5;28;01mif\u001b[39;00m \u001b[38;5;28mself\u001b[39m.columns.nlevels > \u001b[32m1\u001b[39m:\n\u001b[32m   4112\u001b[39m     \u001b[38;5;28;01mreturn\u001b[39;00m \u001b[38;5;28mself\u001b[39m._getitem_multilevel(key)\n\u001b[32m-> \u001b[39m\u001b[32m4113\u001b[39m indexer = \u001b[38;5;28;43mself\u001b[39;49m\u001b[43m.\u001b[49m\u001b[43mcolumns\u001b[49m\u001b[43m.\u001b[49m\u001b[43mget_loc\u001b[49m\u001b[43m(\u001b[49m\u001b[43mkey\u001b[49m\u001b[43m)\u001b[49m\n\u001b[32m   4114\u001b[39m \u001b[38;5;28;01mif\u001b[39;00m is_integer(indexer):\n\u001b[32m   4115\u001b[39m     indexer = [indexer]\n",
      "\u001b[36mFile \u001b[39m\u001b[32m~\\AppData\\Local\\Packages\\PythonSoftwareFoundation.Python.3.11_qbz5n2kfra8p0\\LocalCache\\local-packages\\Python311\\site-packages\\pandas\\core\\indexes\\base.py:3819\u001b[39m, in \u001b[36mIndex.get_loc\u001b[39m\u001b[34m(self, key)\u001b[39m\n\u001b[32m   3814\u001b[39m     \u001b[38;5;28;01mif\u001b[39;00m \u001b[38;5;28misinstance\u001b[39m(casted_key, \u001b[38;5;28mslice\u001b[39m) \u001b[38;5;129;01mor\u001b[39;00m (\n\u001b[32m   3815\u001b[39m         \u001b[38;5;28misinstance\u001b[39m(casted_key, abc.Iterable)\n\u001b[32m   3816\u001b[39m         \u001b[38;5;129;01mand\u001b[39;00m \u001b[38;5;28many\u001b[39m(\u001b[38;5;28misinstance\u001b[39m(x, \u001b[38;5;28mslice\u001b[39m) \u001b[38;5;28;01mfor\u001b[39;00m x \u001b[38;5;129;01min\u001b[39;00m casted_key)\n\u001b[32m   3817\u001b[39m     ):\n\u001b[32m   3818\u001b[39m         \u001b[38;5;28;01mraise\u001b[39;00m InvalidIndexError(key)\n\u001b[32m-> \u001b[39m\u001b[32m3819\u001b[39m     \u001b[38;5;28;01mraise\u001b[39;00m \u001b[38;5;167;01mKeyError\u001b[39;00m(key) \u001b[38;5;28;01mfrom\u001b[39;00m\u001b[38;5;250m \u001b[39m\u001b[34;01merr\u001b[39;00m\n\u001b[32m   3820\u001b[39m \u001b[38;5;28;01mexcept\u001b[39;00m \u001b[38;5;167;01mTypeError\u001b[39;00m:\n\u001b[32m   3821\u001b[39m     \u001b[38;5;66;03m# If we have a listlike key, _check_indexing_error will raise\u001b[39;00m\n\u001b[32m   3822\u001b[39m     \u001b[38;5;66;03m#  InvalidIndexError. Otherwise we fall through and re-raise\u001b[39;00m\n\u001b[32m   3823\u001b[39m     \u001b[38;5;66;03m#  the TypeError.\u001b[39;00m\n\u001b[32m   3824\u001b[39m     \u001b[38;5;28mself\u001b[39m._check_indexing_error(key)\n",
      "\u001b[31mKeyError\u001b[39m: 'world share'"
     ]
    }
   ],
   "source": []
  }
 ],
 "metadata": {
  "kernelspec": {
   "display_name": "Python 3",
   "language": "python",
   "name": "python3"
  },
  "language_info": {
   "codemirror_mode": {
    "name": "ipython",
    "version": 3
   },
   "file_extension": ".py",
   "mimetype": "text/x-python",
   "name": "python",
   "nbconvert_exporter": "python",
   "pygments_lexer": "ipython3",
   "version": "3.11.9"
  }
 },
 "nbformat": 4,
 "nbformat_minor": 5
}

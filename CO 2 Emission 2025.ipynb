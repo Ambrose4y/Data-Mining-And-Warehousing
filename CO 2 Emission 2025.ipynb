{
 "cells": [
  {
   "cell_type": "markdown",
   "id": "d8ea87aa",
   "metadata": {},
   "source": [
    "Importation of important Libraries"
   ]
  },
  {
   "cell_type": "code",
   "execution_count": 1,
   "id": "a9a7fa38",
   "metadata": {},
   "outputs": [],
   "source": [
    "import pandas as pd\n",
    "import numpy as np\n",
    "import matplotlib.pyplot as plt\n",
    "import warnings \n",
    "import seaborn as sns\n",
    "warnings.filterwarnings('ignore')\n",
    "%matplotlib inline"
   ]
  },
  {
   "cell_type": "markdown",
   "id": "2bb596f7",
   "metadata": {},
   "source": [
    "Reading the Url Of Dataset"
   ]
  },
  {
   "cell_type": "code",
   "execution_count": 3,
   "id": "542fff00",
   "metadata": {},
   "outputs": [],
   "source": [
    "url = \"https://www.worldometers.info/co2-emissions/\"\n",
    "df = pd.read_html(url)"
   ]
  },
  {
   "cell_type": "markdown",
   "id": "7e2530f4",
   "metadata": {},
   "source": [
    "Head of dataset"
   ]
  },
  {
   "cell_type": "code",
   "execution_count": null,
   "id": "a9042608",
   "metadata": {},
   "outputs": [
    {
     "ename": "AttributeError",
     "evalue": "module 'pandas' has no attribute 'read'",
     "output_type": "error",
     "traceback": [
      "\u001b[31m---------------------------------------------------------------------------\u001b[39m",
      "\u001b[31mAttributeError\u001b[39m                            Traceback (most recent call last)",
      "\u001b[36mCell\u001b[39m\u001b[36m \u001b[39m\u001b[32mIn[5]\u001b[39m\u001b[32m, line 1\u001b[39m\n\u001b[32m----> \u001b[39m\u001b[32m1\u001b[39m df = \u001b[43mpd\u001b[49m\u001b[43m.\u001b[49m\u001b[43mread\u001b[49m(url)\n\u001b[32m      2\u001b[39m df.head(\u001b[32m5\u001b[39m)\n",
      "\u001b[31mAttributeError\u001b[39m: module 'pandas' has no attribute 'read'"
     ]
    }
   ],
   "source": [
    "df.head()\n"
   ]
  }
 ],
 "metadata": {
  "kernelspec": {
   "display_name": "Python 3",
   "language": "python",
   "name": "python3"
  },
  "language_info": {
   "codemirror_mode": {
    "name": "ipython",
    "version": 3
   },
   "file_extension": ".py",
   "mimetype": "text/x-python",
   "name": "python",
   "nbconvert_exporter": "python",
   "pygments_lexer": "ipython3",
   "version": "3.11.9"
  }
 },
 "nbformat": 4,
 "nbformat_minor": 5
}
